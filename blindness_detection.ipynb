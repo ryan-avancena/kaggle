{
 "cells": [
  {
   "cell_type": "markdown",
   "metadata": {},
   "source": [
    "# aptos 2019 blindness detection\n",
    "\n",
    "detect diabetic retinopathy to stop blindness before it's too late\n",
    "\n",
    "this notebook is heavily referencing [duc nguyen's competition notebook](https://www.kaggle.com/code/mathormad/aptos-resnet50-baseline) and is meant to be a study tool"
   ]
  },
  {
   "cell_type": "markdown",
   "metadata": {},
   "source": [
    "## understanding diabetic retinopathy"
   ]
  },
  {
   "cell_type": "code",
   "execution_count": null,
   "metadata": {},
   "outputs": [],
   "source": []
  },
  {
   "cell_type": "markdown",
   "metadata": {},
   "source": [
    "## Importing Libraries"
   ]
  },
  {
   "cell_type": "code",
   "execution_count": 13,
   "metadata": {},
   "outputs": [],
   "source": [
    "import os\n",
    "import numpy as np\n",
    "import pandas as pd\n",
    "import tensorflow as tf\n",
    "from PIL import Image"
   ]
  },
  {
   "cell_type": "code",
   "execution_count": 8,
   "metadata": {},
   "outputs": [],
   "source": [
    "from tensorflow.keras.preprocessing.image import ImageDataGenerator\n",
    "from tensorflow.keras.applications import ResNet50\n",
    "from tensorflow.keras import layers, models\n",
    "from tensorflow.keras.optimizers import Adam\n",
    "from sklearn.model_selection import train_test_split\n",
    "from sklearn.preprocessing import LabelEncoder"
   ]
  },
  {
   "cell_type": "markdown",
   "metadata": {},
   "source": [
    "## Data"
   ]
  },
  {
   "cell_type": "code",
   "execution_count": 14,
   "metadata": {},
   "outputs": [
    {
     "name": "stdout",
     "output_type": "stream",
     "text": [
      "All images resized and saved to ./data/blindness-detection/train_images_resized/\n"
     ]
    }
   ],
   "source": [
    "train_df = pd.read_csv('./data/blindness-detection/train.csv')\n",
    "test_df = pd.read_csv('./data/blindness-detection/test.csv')\n",
    "\n",
    "# image_directory = './data/blindness-detection/train_images/'\n",
    "\n",
    "# image_files = os.listdir(image_directory)\n",
    "\n",
    "# resized_image_directory = './data/blindness-detection/train_images_resized/'\n",
    "# os.makedirs(resized_image_directory, exist_ok=True)\n",
    "\n",
    "# for image_file in image_files:\n",
    "#     image_path = os.path.join(image_directory, image_file)\n",
    "#     with Image.open(image_path) as img:\n",
    "#         resized_img = img.resize((224, 224))\n",
    "#         resized_img.save(os.path.join(resized_image_directory, image_file))\n",
    "\n",
    "# print(f\"All images resized and saved to {resized_image_directory}\")"
   ]
  },
  {
   "cell_type": "code",
   "execution_count": null,
   "metadata": {},
   "outputs": [
    {
     "data": {
      "text/plain": [
       "<Axes: >"
      ]
     },
     "execution_count": 10,
     "metadata": {},
     "output_type": "execute_result"
    },
    {
     "data": {
      "image/png": "[encoded data removed]",
      "text/plain": [
       "<Figure size 640x480 with 1 Axes>"
      ]
     },
     "metadata": {},
     "output_type": "display_data"
    }
   ],
   "source": [
    "from tensorflow.keras.preprocessing.image import ImageDataGenerator\n",
    "\n",
    "train_df = pd.read_csv('./data/blindness-detection/train.csv')\n",
    "test_df = pd.read_csv('./data/blindness-detection/test.csv')\n",
    "\n",
    "x_train = train_df['image_id']\n",
    "y_train = train_df['diagnosis']\n",
    "\n",
    "x_test = test_df['image_id']\n",
    "y_test = test_df['diagnosis']\n",
    "\n",
    "IMG_SIZE = 224  # resNet input size is typically 224x224\n",
    "\n",
    "# preprocessing\n",
    "datagen = ImageDataGenerator(rescale=1./255, validation_split=0.2)\n",
    "\n",
    "# create training data generator\n",
    "train_gen = datagen.flow_from_dataframe(\n",
    "    dataframe=train_df,\n",
    "    directory='./data/blindness-detection/train_images_resized/', \n",
    "    x_col='image_id',\n",
    "    y_col='diagnosis',\n",
    "    target_size=(IMG_SIZE, IMG_SIZE),\n",
    "    batch_size=32,\n",
    "    class_mode='categorical',  # Use 'categorical' for multi-class classification\n",
    "    subset='training'\n",
    ")\n",
    "\n",
    "# create validation data generator\n",
    "val_gen = datagen.flow_from_dataframe(\n",
    "    dataframe=train_df,  # Use train_df for validation as well\n",
    "    directory='./data/blindness-detection/train_images_resized/',\n",
    "    x_col='image_id',\n",
    "    y_col='diagnosis',\n",
    "    target_size=(IMG_SIZE, IMG_SIZE),\n",
    "    batch_size=32,\n",
    "    class_mode='categorical',  # Use 'categorical' for multi-class classification\n",
    "    subset='validation'\n",
    ")\n"
   ]
  },
  {
   "cell_type": "code",
   "execution_count": null,
   "metadata": {},
   "outputs": [],
   "source": [
    "base_model = ResNet50(weights='imagenet', include_top=False, input_shape=(IMG_SIZE, IMG_SIZE, 3))\n",
    "\n",
    "# Freeze the ResNet50 base model\n",
    "base_model.trainable = False\n",
    "\n",
    "# Create a new model on top of ResNet50\n",
    "model = models.Sequential([\n",
    "    base_model,\n",
    "    layers.GlobalAveragePooling2D(),\n",
    "    layers.Dense(1024, activation='relu'),\n",
    "    layers.Dense(5, activation='sigmoid')  \n",
    "])\n",
    "\n",
    "# Define the optimizer\n",
    "optimizer = Adam(learning_rate=0.0001)\n",
    "\n",
    "# Compile the model\n",
    "model.compile(optimizer=optimizer,\n",
    "              loss='categorical_crossentropy',  # Or 'categorical_crossentropy' for multi-class\n",
    "              metrics=['accuracy'])\n",
    "\n",
    "# Train the model\n",
    "history = model.fit(\n",
    "    train_gen,\n",
    "    epochs=10,\n",
    "    validation_data=val_gen,\n",
    "    callbacks=[tf.keras.callbacks.EarlyStopping(patience=3, restore_best_weights=True)]\n",
    ")"
   ]
  }
 ],
 "metadata": {
  "kernelspec": {
   "display_name": "venv",
   "language": "python",
   "name": "python3"
  },
  "language_info": {
   "codemirror_mode": {
    "name": "ipython",
    "version": 3
   },
   "file_extension": ".py",
   "mimetype": "text/x-python",
   "name": "python",
   "nbconvert_exporter": "python",
   "pygments_lexer": "ipython3",
   "version": "3.11.9"
  }
 },
 "nbformat": 4,
 "nbformat_minor": 2
}
