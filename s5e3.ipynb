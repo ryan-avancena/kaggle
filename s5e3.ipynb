{
 "cells": [
  {
   "cell_type": "markdown",
   "metadata": {},
   "source": [
    "# playground series - s5e3 \n",
    "\n",
    "binary prediction with a rainfall dataset "
   ]
  },
  {
   "cell_type": "markdown",
   "metadata": {},
   "source": [
    "## importing libraries "
   ]
  },
  {
   "cell_type": "code",
   "execution_count": 24,
   "metadata": {},
   "outputs": [],
   "source": [
    "import pandas as pd\n",
    "import numpy as np"
   ]
  },
  {
   "cell_type": "code",
   "execution_count": null,
   "metadata": {},
   "outputs": [],
   "source": [
    "train = pd.read_csv('./playground-series-s5e3/train.csv')\n",
    "test = pd.read_csv('./playground-series-s5e3/test.csv')\n",
    "\n",
    "\n",
    "# training data\n",
    "X_train = train.drop(columns=['rainfall'])\n",
    "y_train = train['rainfall']\n",
    "\n",
    "# test data\n",
    "# X_test = test.drop(columns=['rainfall'])"
   ]
  },
  {
   "cell_type": "markdown",
   "metadata": {},
   "source": [
    "## machine learning - logistic regression"
   ]
  },
  {
   "cell_type": "markdown",
   "metadata": {},
   "source": [
    "preprocessing techniques:\n",
    "* scaling our data\n",
    "* dada"
   ]
  },
  {
   "cell_type": "code",
   "execution_count": 26,
   "metadata": {},
   "outputs": [],
   "source": [
    "from sklearn.preprocessing import MinMaxScaler\n",
    "\n",
    "NUMERIC_COLS = ['pressure','maxtemp','temparature','mintemp','dewpoint','humidity','cloud','sunshine','winddirection','windspeed']\n",
    "\n",
    "scaler = MinMaxScaler()\n",
    "X_train[NUMERIC_COLS] = pd.DataFrame(scaler.fit_transform(X_train[NUMERIC_COLS]), columns=NUMERIC_COLS, index=X_train.index)"
   ]
  },
  {
   "cell_type": "code",
   "execution_count": null,
   "metadata": {},
   "outputs": [
    {
     "data": {
      "text/html": [
       "<div>\n",
       "<style scoped>\n",
       "    .dataframe tbody tr th:only-of-type {\n",
       "        vertical-align: middle;\n",
       "    }\n",
       "\n",
       "    .dataframe tbody tr th {\n",
       "        vertical-align: top;\n",
       "    }\n",
       "\n",
       "    .dataframe thead th {\n",
       "        text-align: right;\n",
       "    }\n",
       "</style>\n",
       "<table border=\"1\" class=\"dataframe\">\n",
       "  <thead>\n",
       "    <tr style=\"text-align: right;\">\n",
       "      <th></th>\n",
       "      <th>id</th>\n",
       "      <th>day</th>\n",
       "      <th>pressure</th>\n",
       "      <th>maxtemp</th>\n",
       "      <th>temparature</th>\n",
       "      <th>mintemp</th>\n",
       "      <th>dewpoint</th>\n",
       "      <th>humidity</th>\n",
       "      <th>cloud</th>\n",
       "      <th>sunshine</th>\n",
       "      <th>winddirection</th>\n",
       "      <th>windspeed</th>\n",
       "    </tr>\n",
       "  </thead>\n",
       "  <tbody>\n",
       "    <tr>\n",
       "      <th>0</th>\n",
       "      <td>0</td>\n",
       "      <td>1</td>\n",
       "      <td>0.516854</td>\n",
       "      <td>0.421875</td>\n",
       "      <td>0.547718</td>\n",
       "      <td>0.616279</td>\n",
       "      <td>0.729630</td>\n",
       "      <td>0.813559</td>\n",
       "      <td>0.877551</td>\n",
       "      <td>0.090909</td>\n",
       "      <td>0.172414</td>\n",
       "      <td>0.232305</td>\n",
       "    </tr>\n",
       "    <tr>\n",
       "      <th>1</th>\n",
       "      <td>1</td>\n",
       "      <td>2</td>\n",
       "      <td>0.575843</td>\n",
       "      <td>0.226562</td>\n",
       "      <td>0.394191</td>\n",
       "      <td>0.457364</td>\n",
       "      <td>0.581481</td>\n",
       "      <td>0.949153</td>\n",
       "      <td>0.908163</td>\n",
       "      <td>0.000000</td>\n",
       "      <td>0.137931</td>\n",
       "      <td>0.317604</td>\n",
       "    </tr>\n",
       "    <tr>\n",
       "      <th>2</th>\n",
       "      <td>2</td>\n",
       "      <td>3</td>\n",
       "      <td>0.705056</td>\n",
       "      <td>0.351562</td>\n",
       "      <td>0.360996</td>\n",
       "      <td>0.410853</td>\n",
       "      <td>0.355556</td>\n",
       "      <td>0.610169</td>\n",
       "      <td>0.459184</td>\n",
       "      <td>0.685950</td>\n",
       "      <td>0.206897</td>\n",
       "      <td>0.248639</td>\n",
       "    </tr>\n",
       "    <tr>\n",
       "      <th>3</th>\n",
       "      <td>3</td>\n",
       "      <td>4</td>\n",
       "      <td>0.404494</td>\n",
       "      <td>0.300781</td>\n",
       "      <td>0.431535</td>\n",
       "      <td>0.500000</td>\n",
       "      <td>0.633333</td>\n",
       "      <td>0.949153</td>\n",
       "      <td>0.948980</td>\n",
       "      <td>0.000000</td>\n",
       "      <td>0.172414</td>\n",
       "      <td>0.566243</td>\n",
       "    </tr>\n",
       "    <tr>\n",
       "      <th>4</th>\n",
       "      <td>4</td>\n",
       "      <td>5</td>\n",
       "      <td>0.640449</td>\n",
       "      <td>0.425781</td>\n",
       "      <td>0.456432</td>\n",
       "      <td>0.434109</td>\n",
       "      <td>0.366667</td>\n",
       "      <td>0.220339</td>\n",
       "      <td>0.438776</td>\n",
       "      <td>0.297521</td>\n",
       "      <td>0.103448</td>\n",
       "      <td>0.370236</td>\n",
       "    </tr>\n",
       "  </tbody>\n",
       "</table>\n",
       "</div>"
      ],
      "text/plain": [
       "   id  day  pressure   maxtemp  temparature   mintemp  dewpoint  humidity  \\\n",
       "0   0    1  0.516854  0.421875     0.547718  0.616279  0.729630  0.813559   \n",
       "1   1    2  0.575843  0.226562     0.394191  0.457364  0.581481  0.949153   \n",
       "2   2    3  0.705056  0.351562     0.360996  0.410853  0.355556  0.610169   \n",
       "3   3    4  0.404494  0.300781     0.431535  0.500000  0.633333  0.949153   \n",
       "4   4    5  0.640449  0.425781     0.456432  0.434109  0.366667  0.220339   \n",
       "\n",
       "      cloud  sunshine  winddirection  windspeed  \n",
       "0  0.877551  0.090909       0.172414   0.232305  \n",
       "1  0.908163  0.000000       0.137931   0.317604  \n",
       "2  0.459184  0.685950       0.206897   0.248639  \n",
       "3  0.948980  0.000000       0.172414   0.566243  \n",
       "4  0.438776  0.297521       0.103448   0.370236  "
      ]
     },
     "execution_count": 27,
     "metadata": {},
     "output_type": "execute_result"
    }
   ],
   "source": [
    "from sklearn.linear_model import LogisticRegression\n",
    "\n",
    "lr = LogisticRegression(random_state=42).fit(X_train,y_train)\n",
    "\n"
   ]
  }
 ],
 "metadata": {
  "kernelspec": {
   "display_name": "venv",
   "language": "python",
   "name": "python3"
  },
  "language_info": {
   "codemirror_mode": {
    "name": "ipython",
    "version": 3
   },
   "file_extension": ".py",
   "mimetype": "text/x-python",
   "name": "python",
   "nbconvert_exporter": "python",
   "pygments_lexer": "ipython3",
   "version": "3.11.0"
  }
 },
 "nbformat": 4,
 "nbformat_minor": 2
}
